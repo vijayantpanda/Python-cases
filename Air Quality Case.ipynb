{
 "cells": [
  {
   "cell_type": "code",
   "execution_count": null,
   "metadata": {},
   "outputs": [],
   "source": [
    "import pandas as pd\n",
    "import numpy as np\n",
    "import os as os"
   ]
  },
  {
   "cell_type": "code",
   "execution_count": null,
   "metadata": {},
   "outputs": [],
   "source": [
    "air = pd.read_csv(\"C:\\\\Users\\\\Administrator\\\\Desktop\\\\Python Assignments\\\\DataSets\\\\air.csv\",sep=',')\n",
    "\n",
    "#1. Dimensions of Dataset\n",
    "print(\"The dataset dimensions are:\", air.shape)\n",
    "\n",
    "#2. Structure of Dataset\n",
    "print(air.dtypes)\n",
    "\n",
    "#3. Column Names of Dataset \n",
    "print(air.columns)\n",
    "\n",
    "#4. Summary of dataset\n",
    "air.describe()"
   ]
  },
  {
   "cell_type": "code",
   "execution_count": null,
   "metadata": {},
   "outputs": [],
   "source": [
    "#1.Fetch the observations for 9 day of June\n",
    "air.query('Month == 6 and Day == 9' )"
   ]
  },
  {
   "cell_type": "code",
   "execution_count": null,
   "metadata": {},
   "outputs": [],
   "source": [
    "#2.Find Average temperature for the month of June. \n",
    "j = air.query('Month == 6')[['Temp']]\n",
    "print(j)\n",
    "print(np.mean(j))"
   ]
  },
  {
   "cell_type": "code",
   "execution_count": null,
   "metadata": {},
   "outputs": [],
   "source": [
    "#3. To which day of June has the least temperature\n",
    "h =  air.query('Month == 6')[['Temp','Day']]\n",
    "h\n",
    "h.min()[['Day']]"
   ]
  },
  {
   "cell_type": "code",
   "execution_count": null,
   "metadata": {},
   "outputs": [],
   "source": [
    "#4. Find Maximum Ozone value for the month of May\n",
    "\n",
    "m= air.query('Month == 5')[['Ozone','Day']]\n",
    "m.sort_values(by = \"Ozone\",ascending=False).head(n=1)[['Day']]"
   ]
  },
  {
   "cell_type": "code",
   "execution_count": null,
   "metadata": {},
   "outputs": [],
   "source": [
    "#5.Find the count of the missing values in the ozone column of the data set\n",
    "air.Ozone.isnull().sum()"
   ]
  },
  {
   "cell_type": "code",
   "execution_count": null,
   "metadata": {},
   "outputs": [],
   "source": [
    "#6.Find out What is the mean of the Ozone column in this dataset\n",
    "\n",
    "round(air.Ozone.mean(),2)"
   ]
  },
  {
   "cell_type": "code",
   "execution_count": null,
   "metadata": {},
   "outputs": [],
   "source": [
    "#7.Find out which month has the highest temperature\n",
    "air.sort_values(by='Temp',ascending=False)[['Temp','Month']].head(n=1)\n"
   ]
  },
  {
   "cell_type": "code",
   "execution_count": null,
   "metadata": {},
   "outputs": [],
   "source": [
    "#8. Find out the wind value when the Ozone becomes maximum\n",
    "\n",
    "#air.query('Ozone == Ozone.max()')[['Ozone','Wind']]\n",
    "air.sort_values(by='Ozone',ascending=False)[['Ozone','Wind']].head(n=1)"
   ]
  },
  {
   "cell_type": "code",
   "execution_count": null,
   "metadata": {},
   "outputs": [],
   "source": [
    "#9. Find out the months for which the airquality observations have been carried out\n",
    "air.Month.unique()"
   ]
  },
  {
   "cell_type": "code",
   "execution_count": null,
   "metadata": {},
   "outputs": [],
   "source": [
    "#10. Find the Ozone and temperature values for the 1st observation of every month\n",
    "air.query(\"Day == 1\")[[\"Month\",\"Day\",\"Ozone\",\"Temp\"]]"
   ]
  },
  {
   "cell_type": "code",
   "execution_count": null,
   "metadata": {},
   "outputs": [],
   "source": [
    "#11.Which day of which month corresponds to the least Ozone Value\n",
    "air.query(\"Ozone == Ozone.min()\")[[\"Month\",\"Day\",\"Ozone\"]]"
   ]
  },
  {
   "cell_type": "code",
   "execution_count": null,
   "metadata": {},
   "outputs": [],
   "source": [
    "#12.Convert the temperature for all the observations to Centigrade scale\n",
    "\n",
    "air['centigrade'] = (air.Temp-32)*(5/9)\n",
    "print(air[['Temp','centigrade']])"
   ]
  }
 ],
 "metadata": {
  "kernelspec": {
   "display_name": "Python 3",
   "language": "python",
   "name": "python3"
  },
  "language_info": {
   "codemirror_mode": {
    "name": "ipython",
    "version": 3
   },
   "file_extension": ".py",
   "mimetype": "text/x-python",
   "name": "python",
   "nbconvert_exporter": "python",
   "pygments_lexer": "ipython3",
   "version": "3.6.4"
  }
 },
 "nbformat": 4,
 "nbformat_minor": 2
}
