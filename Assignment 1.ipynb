{
 "cells": [
  {
   "cell_type": "code",
   "execution_count": 3,
   "metadata": {},
   "outputs": [
    {
     "name": "stdout",
     "output_type": "stream",
     "text": [
      "Enter a number: 36\n",
      "The square root of 36.000 is 6.000\n"
     ]
    }
   ],
   "source": [
    "#1. Write a program to find square root of a number.\n",
    "\n",
    "num = float(input('Enter a number: '))\n",
    "num_sqrt = num ** 0.5\n",
    "print('The square root of %0.3f is %0.3f'%(num ,num_sqrt))"
   ]
  },
  {
   "cell_type": "code",
   "execution_count": 6,
   "metadata": {},
   "outputs": [
    {
     "name": "stdout",
     "output_type": "stream",
     "text": [
      "Enter base: 10\n",
      "Enter height: 12\n",
      "The area of a triangle is: 60.0\n"
     ]
    }
   ],
   "source": [
    "#2. Python Program to find the area of triangle\n",
    "\n",
    "base = float(input('Enter base: '))\n",
    "height = float(input('Enter height: '))\n",
    "area = 0.5*base*height\n",
    "print('The area of a triangle is: '+ str(area))"
   ]
  },
  {
   "cell_type": "code",
   "execution_count": 11,
   "metadata": {},
   "outputs": [
    {
     "name": "stdout",
     "output_type": "stream",
     "text": [
      "Enter value of x: 10\n",
      "Enter value of y: 15\n",
      "x is: 15 y is: 10\n"
     ]
    }
   ],
   "source": [
    "#3. Python program to swap two variables provided by the user without temporary variable\n",
    "\n",
    "x = int(input('Enter value of x: '))\n",
    "y = int(input('Enter value of y: '))\n",
    "x = x+y\n",
    "y = x-y\n",
    "x = x-y\n",
    "print('x is:',x,'y is:',y)"
   ]
  },
  {
   "cell_type": "code",
   "execution_count": 16,
   "metadata": {},
   "outputs": [
    {
     "name": "stdout",
     "output_type": "stream",
     "text": [
      "Enter year:1234\n",
      "The year isn't a leap year!\n"
     ]
    }
   ],
   "source": [
    "#4. Python program to check if the input year is a leap year or not\n",
    "\n",
    "year=int(input(\"Enter year:\"))\n",
    "if(year%4==0 and year%100!=0 or year%400==0):\n",
    "    print(\"The year is a leap year!\")\n",
    "else:\n",
    "    print(\"The year isn't a leap year!\")\n"
   ]
  },
  {
   "cell_type": "code",
   "execution_count": 61,
   "metadata": {},
   "outputs": [
    {
     "name": "stdout",
     "output_type": "stream",
     "text": [
      "Enter terms:6\n",
      "0 1 1 2 3 5 "
     ]
    }
   ],
   "source": [
    "#5. Program to display the Fibonacci sequence up to n-th term where n is provided by the user\n",
    "n = int(input(\"Enter terms:\"))\n",
    "i = 0\n",
    "j = 1\n",
    "count = 0\n",
    "while (count<n):\n",
    "    print (i,end=' ')\n",
    "    k = i+j\n",
    "    i=j\n",
    "    j = k\n",
    "    count = count+1"
   ]
  },
  {
   "cell_type": "code",
   "execution_count": 56,
   "metadata": {},
   "outputs": [
    {
     "name": "stdout",
     "output_type": "stream",
     "text": [
      "Enter a number:371\n",
      "Armstrong Number\n"
     ]
    }
   ],
   "source": [
    "#6. Python program to check if the number provided by the user is an Armstrong number or not\n",
    "##An Armstrong number of three digits is an integer such that the sum of the cubes of its digits is equal to the number itself.\n",
    "\n",
    "x = int(input(\"Enter a number:\"))\n",
    "sum=0\n",
    "temp=x\n",
    "while(temp>0):\n",
    "    a = temp%10\n",
    "    sum = sum + a**3\n",
    "    temp //= 10\n",
    "if(sum==x):\n",
    "        print('Armstrong Number')\n",
    "else:\n",
    "        print('Not an Armstrong Number')"
   ]
  },
  {
   "cell_type": "code",
   "execution_count": 62,
   "metadata": {},
   "outputs": [
    {
     "name": "stdout",
     "output_type": "stream",
     "text": [
      "Enter the Power:5\n",
      "[1, 2, 4, 8, 16]\n"
     ]
    }
   ],
   "source": [
    "#7. Python Program to display the powers of 2 using anonymous function\n",
    "num = int(input(\"Enter the Power:\"))\n",
    "result = map(lambda x: 2 ** x, range(num))\n",
    "output = print(list(result))\n"
   ]
  }
 ],
 "metadata": {
  "kernelspec": {
   "display_name": "Python 3",
   "language": "python",
   "name": "python3"
  },
  "language_info": {
   "codemirror_mode": {
    "name": "ipython",
    "version": 3
   },
   "file_extension": ".py",
   "mimetype": "text/x-python",
   "name": "python",
   "nbconvert_exporter": "python",
   "pygments_lexer": "ipython3",
   "version": "3.6.4"
  }
 },
 "nbformat": 4,
 "nbformat_minor": 2
}
